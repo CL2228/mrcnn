{
 "cells": [
  {
   "cell_type": "markdown",
   "metadata": {},
   "source": [
    "#### 载入依赖项"
   ]
  },
  {
   "cell_type": "code",
   "execution_count": 1,
   "metadata": {},
   "outputs": [],
   "source": [
    "# coding: utf-8\n",
    "import os\n",
    "os.environ['TF_CPP_MIN_LOG_LEVEL'] = '2' \n",
    "import matplotlib.pyplot as plt\n",
    "import tensorflow as tf"
   ]
  },
  {
   "cell_type": "markdown",
   "metadata": {},
   "source": [
    "#### 读取图片并显示"
   ]
  },
  {
   "cell_type": "code",
   "execution_count": 2,
   "metadata": {},
   "outputs": [
    {
     "name": "stdout",
     "output_type": "stream",
     "text": [
      "(172, 678, 3)\n",
      "uint8\n"
     ]
    },
    {
     "data": {
      "image/png": "[encoded data removed]",
      "text/plain": [
       "<Figure size 432x288 with 1 Axes>"
      ]
     },
     "metadata": {
      "needs_background": "light"
     },
     "output_type": "display_data"
    }
   ],
   "source": [
    "image_value = tf.read_file('1.png')\n",
    "img = tf.image.decode_jpeg(image_value, channels=3)\n",
    " \n",
    "with tf.Session() as sess:\n",
    "    img_ = img.eval()\n",
    "    print(img_.shape)\n",
    "    print(img_.dtype)\n",
    "\n",
    "plt.figure(1)\n",
    "plt.imshow(img_)\n",
    "plt.show()"
   ]
  },
  {
   "cell_type": "markdown",
   "metadata": {},
   "source": [
    "#### shape变化并变回来（作废）"
   ]
  },
  {
   "cell_type": "code",
   "execution_count": 3,
   "metadata": {},
   "outputs": [
    {
     "name": "stdout",
     "output_type": "stream",
     "text": [
      "(172, 678, 3)\n",
      "uint8\n"
     ]
    },
    {
     "data": {
      "image/png": "[encoded data removed]",
      "text/plain": [
       "<Figure size 432x288 with 1 Axes>"
      ]
     },
     "metadata": {
      "needs_background": "light"
     },
     "output_type": "display_data"
    }
   ],
   "source": [
    "featmap = tf.reshape(img_, [3, -1])\n",
    "image = tf.reshape(featmap, [172, 678, 3])\n",
    "\n",
    "with tf.Session() as sess:\n",
    "    image_ = image.eval()\n",
    "    print(image_.shape)\n",
    "    print(image_.dtype)\n",
    "    \n",
    "plt.figure(2)\n",
    "plt.imshow(image_)\n",
    "plt.show()"
   ]
  },
  {
   "cell_type": "markdown",
   "metadata": {},
   "source": [
    "#### 定义点积的权重和偏置"
   ]
  },
  {
   "cell_type": "code",
   "execution_count": 20,
   "metadata": {},
   "outputs": [
    {
     "name": "stdout",
     "output_type": "stream",
     "text": [
      "(3, 116616)\n",
      "(4, 3, 5)\n",
      "(4, 1, 5)\n",
      "[<tf.Tensor 'split_10:0' shape=(4, 3, 1) dtype=uint8>, <tf.Tensor 'split_10:1' shape=(4, 3, 1) dtype=uint8>, <tf.Tensor 'split_10:2' shape=(4, 3, 1) dtype=uint8>, <tf.Tensor 'split_10:3' shape=(4, 3, 1) dtype=uint8>, <tf.Tensor 'split_10:4' shape=(4, 3, 1) dtype=uint8>]\n"
     ]
    }
   ],
   "source": [
    "ws=tf.constant([[1,0,0,1,1],\n",
    "                [0,1,0,1,0],\n",
    "                [0,0,1,0,1]], dtype='uint8')\n",
    "#create batch\n",
    "ws = tf.expand_dims(ws, 0)\n",
    "ws = tf.concat([ws, ws, ws, ws], 0)\n",
    "bs=tf.constant([[1,2,3,4,5]], dtype='uint8')\n",
    "bs = tf.expand_dims(bs, 0)\n",
    "bs = tf.concat([bs, bs, bs, bs], 0)\n",
    "# ws:channels * ways\n",
    "#WAYS = tf.shape(ws)[-1]\n",
    "WAYS = 5\n",
    "Ws = tf.split(ws, WAYS, axis=-1)\n",
    "Bs = tf.split(bs, WAYS, axis=-1)\n",
    "with tf.Session() as sess:\n",
    "    #print(featmap.shape)\n",
    "    print(ws.shape)      #(4, 3, 5)\n",
    "    #print(w.shape)\n",
    "    print(bs.shape)      #(4, 1, 5)\n",
    "    print(Ws)\n",
    "    print(Bs)"
   ]
  },
  {
   "cell_type": "markdown",
   "metadata": {},
   "source": [
    "#### 模拟点积操作，观察shape\n",
    "后面的image_compress如果不进行reshape操作的话，与bt相加就会得到(4, 4, 172, 678)的情况， 我也不知道为什么。。。"
   ]
  },
  {
   "cell_type": "code",
   "execution_count": 50,
   "metadata": {},
   "outputs": [
    {
     "name": "stdout",
     "output_type": "stream",
     "text": [
      "(4, 172, 678, 1)\n",
      "(4, 172, 678, 1)\n",
      "(4, 172, 678, 1)\n",
      "(4, 172, 678, 1)\n",
      "(4, 172, 678, 1)\n",
      "(4, 172, 678, 1)\n",
      "(4, 172, 678, 1)\n",
      "(4, 172, 678, 1)\n",
      "(4, 172, 678, 1)\n",
      "(4, 172, 678, 1)\n",
      "(4, 172, 678, 1)\n",
      "(4, 172, 678, 1)\n",
      "(4, 172, 678, 1)\n",
      "(4, 172, 678, 1)\n",
      "(4, 172, 678, 1)\n",
      "(4, 172, 678, 2)\n"
     ]
    }
   ],
   "source": [
    "#shape information\n",
    "batch = 4\n",
    "height = 172\n",
    "width = 678\n",
    "channels = 3\n",
    "mask = tf.zeros((batch, height, width, 1), dtype='uint8')\n",
    "# origin_image_batch\n",
    "image_o = tf.expand_dims(image, 0)\n",
    "image_o = tf.concat([image_o, image_o, image_o, image_o], 0)\n",
    "\n",
    "#dot multiple\n",
    "for i in range(WAYS):\n",
    "    w, b = Ws[i], Bs[i]\n",
    "    wt = tf.reshape(w, [batch, 1, 1, channels])\n",
    "    bt = tf.reshape(b, [batch, 1, 1, 1])\n",
    "    image_dot = tf.multiply(wt, image_o)\n",
    "    image_compress = tf.reduce_sum(image_dot, axis=-1)\n",
    "    image_compress = tf.reshape(image_compress, [batch, height, width, 1])\n",
    "    image_add = image_compress + bt\n",
    "    mask = mask + temp_mask\n",
    "    with tf.Session() as sess:\n",
    "        #print(wt.eval())       \n",
    "        #print(bt.eval())     \n",
    "        #print(image_o.shape)           #(4, 172, 678, 3)\n",
    "        #print(wt.shape)                #(4, 1, 1, 3)\n",
    "        #print(bt.shape)                #(4, 1, 1, 1)\n",
    "        #print(image_dot.shape)         #(4, 172, 678, 3)\n",
    "        #print(image_compress.shape)    #(4, 172, 678, 1)\n",
    "        print(image_add.shape)         #(4, 172, 678, 1)\n",
    "        print(temp_mask.shape)         #(4, 172, 678, 1)\n",
    "        print(mask.shape)              #(4, 172, 678, 1)\n",
    "        \n",
    "        #plt.figure(3+i)    \n",
    "        #plt.imshow(image1_)\n",
    "        #plt.show()\n",
    "        \n",
    "mask = mask/WAYS\n",
    "mask = tf.concat([mask, mask], -1)\n",
    "with tf.Session() as sess:\n",
    "    print(mask.shape)          #(4, 172, 678, 2)"
   ]
  },
  {
   "cell_type": "code",
   "execution_count": 48,
   "metadata": {},
   "outputs": [
    {
     "name": "stdout",
     "output_type": "stream",
     "text": [
      "(4, 172, 678, 2)\n"
     ]
    }
   ],
   "source": [
    "mask = mask/WAYS\n",
    "mask = tf.concat([mask, mask], -1)\n",
    "with tf.Session() as sess:\n",
    "    print(mask.shape)"
   ]
  },
  {
   "cell_type": "code",
   "execution_count": 18,
   "metadata": {
    "scrolled": true
   },
   "outputs": [
    {
     "name": "stdout",
     "output_type": "stream",
     "text": [
      "(1, 172, 678, 3)\n"
     ]
    }
   ],
   "source": [
    "image_batch = tf.expand_dims(image, 0)\n",
    "with tf.Session() as sess:\n",
    "    print(image_batch.shape)"
   ]
  },
  {
   "cell_type": "code",
   "execution_count": 31,
   "metadata": {},
   "outputs": [
    {
     "name": "stdout",
     "output_type": "stream",
     "text": [
      "(3, 172, 678, 3)\n"
     ]
    }
   ],
   "source": [
    "batch_image = image_batch\n",
    "batch_image = tf.concat([batch_image, image_batch], 0)\n",
    "batch_image = tf.concat([batch_image, image_batch], 0)\n",
    "with tf.Session() as sess:\n",
    "    print(batch_image.shape)"
   ]
  },
  {
   "cell_type": "code",
   "execution_count": null,
   "metadata": {},
   "outputs": [],
   "source": []
  }
 ],
 "metadata": {
  "kernelspec": {
   "display_name": "Python 3",
   "language": "python",
   "name": "python3"
  },
  "language_info": {
   "codemirror_mode": {
    "name": "ipython",
    "version": 3
   },
   "file_extension": ".py",
   "mimetype": "text/x-python",
   "name": "python",
   "nbconvert_exporter": "python",
   "pygments_lexer": "ipython3",
   "version": "3.7.2"
  }
 },
 "nbformat": 4,
 "nbformat_minor": 2
}
